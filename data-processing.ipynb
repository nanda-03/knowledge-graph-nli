{
 "cells": [
  {
   "cell_type": "code",
   "execution_count": 6,
   "source": [
    "import os\n",
    "import pandas as pd\n",
    "import json\n",
    "from tqdm import tqdm\n",
    "import re\n",
    "import spacy\n",
    "from transformers import RobertaTokenizer\n",
    "\n",
    "nlp = spacy.load(\"en_core_web_sm\")"
   ],
   "outputs": [],
   "metadata": {}
  },
  {
   "cell_type": "code",
   "execution_count": 7,
   "source": [
    "label_set = {\"neutral\", \"contradiction\", \"entailment\"}\n",
    "tokenizer = RobertaTokenizer.from_pretrained(\"roberta-base\")"
   ],
   "outputs": [],
   "metadata": {}
  },
  {
   "cell_type": "code",
   "execution_count": null,
   "source": [
    "def check_tokens(text):\n",
    "    doc = nlp(text)\n",
    "    for token in doc:\n",
    "        sub_tokens = tokenizer(token.text, add_special_tokens=False, return_tensors=\"pt\")[\"input_ids\"]\n",
    "        if sub_tokens.shape[-1] == 0:\n",
    "            return False\n",
    "    return True"
   ],
   "outputs": [],
   "metadata": {}
  },
  {
   "cell_type": "code",
   "execution_count": 8,
   "source": [
    "def parse_mnli(input_filepath:str):\n",
    "    \"\"\"Extract the sentence pair and the corresponding label\n",
    "    Args:\n",
    "        input_filepath: path of the file containing bulk data\n",
    "        output_filepath: path of the file where the parsed data will be saved\n",
    "    \"\"\"\n",
    "    def trim(text):\n",
    "        out = text.strip()\n",
    "        out = re.sub(\" +\", \" \", out)\n",
    "        return out\n",
    "    \n",
    "    paths = input_filepath.split(\"/\")\n",
    "    filename = \".\".join(paths[-1].split(\".\")[:-1])\n",
    "    paths[-1] = f\"{filename}.csv\"\n",
    "    output_filepath = \"/\".join(paths)\n",
    "    data = []\n",
    "    for line in tqdm(open(input_filepath).readlines()):\n",
    "        item = json.loads(line)\n",
    "        if item[\"gold_label\"] not in label_set:\n",
    "            continue\n",
    "        sentence1, sentence2 = trim(item[\"sentence1\"]), trim(item[\"sentence2\"])\n",
    "        if check_tokens(sentence1) and check_tokens(sentence2):\n",
    "            data.append([item[\"pairID\"], sentence1, sentence2, item[\"gold_label\"]])\n",
    "    data = pd.DataFrame(data=data, columns=[\"pairID\", \"sentence1\", \"sentence2\", \"label\"])\n",
    "    data = data.dropna()\n",
    "    data.to_csv(output_filepath, index=False)"
   ],
   "outputs": [],
   "metadata": {}
  },
  {
   "cell_type": "code",
   "execution_count": 9,
   "source": [
    "parse_mnli(\"multinli_1.0/multinli_1.0_train.jsonl\")\n",
    "parse_mnli(\"multinli_1.0/multinli_1.0_dev_matched.jsonl\")\n",
    "parse_mnli(\"multinli_1.0/multinli_1.0_dev_mismatched.jsonl\")"
   ],
   "outputs": [
    {
     "output_type": "stream",
     "name": "stderr",
     "text": [
      "100%|██████████| 392702/392702 [00:05<00:00, 75069.95it/s]\n",
      "100%|██████████| 10000/10000 [00:00<00:00, 71742.14it/s]\n",
      "100%|██████████| 10000/10000 [00:00<00:00, 73503.04it/s]\n"
     ]
    }
   ],
   "metadata": {}
  },
  {
   "cell_type": "code",
   "execution_count": 10,
   "source": [
    "parse_mnli(\"snli_1.0/snli_1.0_dev.jsonl\")\n",
    "parse_mnli(\"snli_1.0/snli_1.0_test.jsonl\")\n",
    "parse_mnli(\"snli_1.0/snli_1.0_train.jsonl\")"
   ],
   "outputs": [
    {
     "output_type": "stream",
     "name": "stderr",
     "text": [
      "100%|██████████| 10000/10000 [00:00<00:00, 81442.64it/s]\n",
      "100%|██████████| 10000/10000 [00:00<00:00, 88390.27it/s]\n",
      "100%|██████████| 550152/550152 [00:05<00:00, 95167.08it/s] \n"
     ]
    }
   ],
   "metadata": {}
  }
 ],
 "metadata": {
  "kernelspec": {
   "display_name": "Python 3",
   "language": "python",
   "name": "python3"
  },
  "language_info": {
   "codemirror_mode": {
    "name": "ipython",
    "version": 3
   },
   "file_extension": ".py",
   "mimetype": "text/x-python",
   "name": "python",
   "nbconvert_exporter": "python",
   "pygments_lexer": "ipython3",
   "version": "3.8.10"
  }
 },
 "nbformat": 4,
 "nbformat_minor": 5
}